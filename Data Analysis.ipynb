{
 "cells": [
  {
   "cell_type": "code",
   "execution_count": 1,
   "metadata": {
    "collapsed": false
   },
   "outputs": [
    {
     "name": "stderr",
     "output_type": "stream",
     "text": [
      "C:\\Users\\Abhishek\\Anaconda2\\lib\\site-packages\\matplotlib\\__init__.py:872: UserWarning: axes.color_cycle is deprecated and replaced with axes.prop_cycle; please use the latter.\n",
      "  warnings.warn(self.msg_depr % (key, alt_key))\n"
     ]
    }
   ],
   "source": [
    "import pandas as pd\n",
    "import numpy as np\n",
    "\n",
    "import matplotlib.pyplot as plt\n",
    "\n",
    "import seaborn as sns\n",
    "sns.set_style(\"darkgrid\")\n",
    "\n",
    "%matplotlib inline\n",
    "import warnings\n",
    "warnings.filterwarnings('ignore')"
   ]
  },
  {
   "cell_type": "code",
   "execution_count": 2,
   "metadata": {
    "collapsed": true
   },
   "outputs": [],
   "source": [
    "# load training and test data\n",
    "train = pd.read_csv('data/train_processed.csv')\n",
    "test = pd.read_csv('data/test_processed.csv')"
   ]
  },
  {
   "cell_type": "code",
   "execution_count": 3,
   "metadata": {
    "collapsed": false
   },
   "outputs": [
    {
     "data": {
      "text/html": [
       "<div>\n",
       "<table border=\"1\" class=\"dataframe\">\n",
       "  <thead>\n",
       "    <tr style=\"text-align: right;\">\n",
       "      <th></th>\n",
       "      <th>user_id</th>\n",
       "      <th>skills</th>\n",
       "      <th>solved_count_y</th>\n",
       "      <th>attempts</th>\n",
       "      <th>user_type</th>\n",
       "      <th>problem_id</th>\n",
       "      <th>level</th>\n",
       "      <th>accuracy</th>\n",
       "      <th>solved_count_x</th>\n",
       "      <th>error_count</th>\n",
       "      <th>rating</th>\n",
       "      <th>tag1</th>\n",
       "      <th>tag2</th>\n",
       "      <th>tag3</th>\n",
       "      <th>tag4</th>\n",
       "      <th>tag5</th>\n",
       "      <th>solved_status</th>\n",
       "    </tr>\n",
       "  </thead>\n",
       "  <tbody>\n",
       "    <tr>\n",
       "      <th>0</th>\n",
       "      <td>989366</td>\n",
       "      <td>C|C++</td>\n",
       "      <td>42</td>\n",
       "      <td>35</td>\n",
       "      <td>NaN</td>\n",
       "      <td>925424</td>\n",
       "      <td>E-M</td>\n",
       "      <td>0.87</td>\n",
       "      <td>351</td>\n",
       "      <td>151</td>\n",
       "      <td>3.8</td>\n",
       "      <td>Disjoint Set</td>\n",
       "      <td>NaN</td>\n",
       "      <td>NaN</td>\n",
       "      <td>NaN</td>\n",
       "      <td>NaN</td>\n",
       "      <td>1</td>\n",
       "    </tr>\n",
       "    <tr>\n",
       "      <th>1</th>\n",
       "      <td>1427169</td>\n",
       "      <td>C</td>\n",
       "      <td>0</td>\n",
       "      <td>1</td>\n",
       "      <td>NaN</td>\n",
       "      <td>928877</td>\n",
       "      <td>E</td>\n",
       "      <td>0.45</td>\n",
       "      <td>1026</td>\n",
       "      <td>4429</td>\n",
       "      <td>4.2</td>\n",
       "      <td>Ad-Hoc</td>\n",
       "      <td>Basic Programming</td>\n",
       "      <td>NaN</td>\n",
       "      <td>NaN</td>\n",
       "      <td>NaN</td>\n",
       "      <td>0</td>\n",
       "    </tr>\n",
       "    <tr>\n",
       "      <th>2</th>\n",
       "      <td>1124465</td>\n",
       "      <td>C#|Python|Java|C++</td>\n",
       "      <td>22</td>\n",
       "      <td>16</td>\n",
       "      <td>W</td>\n",
       "      <td>912519</td>\n",
       "      <td>E</td>\n",
       "      <td>0.22</td>\n",
       "      <td>289</td>\n",
       "      <td>1966</td>\n",
       "      <td>2.5</td>\n",
       "      <td>Math</td>\n",
       "      <td>NaN</td>\n",
       "      <td>NaN</td>\n",
       "      <td>NaN</td>\n",
       "      <td>NaN</td>\n",
       "      <td>1</td>\n",
       "    </tr>\n",
       "  </tbody>\n",
       "</table>\n",
       "</div>"
      ],
      "text/plain": [
       "   user_id              skills  solved_count_y  attempts user_type  \\\n",
       "0   989366               C|C++              42        35       NaN   \n",
       "1  1427169                   C               0         1       NaN   \n",
       "2  1124465  C#|Python|Java|C++              22        16         W   \n",
       "\n",
       "   problem_id level  accuracy  solved_count_x  error_count  rating  \\\n",
       "0      925424   E-M      0.87             351          151     3.8   \n",
       "1      928877     E      0.45            1026         4429     4.2   \n",
       "2      912519     E      0.22             289         1966     2.5   \n",
       "\n",
       "           tag1               tag2 tag3 tag4 tag5  solved_status  \n",
       "0  Disjoint Set                NaN  NaN  NaN  NaN              1  \n",
       "1        Ad-Hoc  Basic Programming  NaN  NaN  NaN              0  \n",
       "2          Math                NaN  NaN  NaN  NaN              1  "
      ]
     },
     "execution_count": 3,
     "metadata": {},
     "output_type": "execute_result"
    }
   ],
   "source": [
    "# look at the data\n",
    "train.head(3)"
   ]
  },
  {
   "cell_type": "code",
   "execution_count": 4,
   "metadata": {
    "collapsed": false
   },
   "outputs": [
    {
     "data": {
      "image/png": "[encoded data removed]",
      "text/plain": [
       "<matplotlib.figure.Figure at 0xb4cd7f0>"
      ]
     },
     "metadata": {},
     "output_type": "display_data"
    }
   ],
   "source": [
    "# Accuracy and Solved Status\n",
    "sns.pointplot(x=\"solved_status\", y=\"accuracy\", data=train);"
   ]
  },
  {
   "cell_type": "code",
   "execution_count": 5,
   "metadata": {
    "collapsed": false
   },
   "outputs": [
    {
     "data": {
      "image/png": "[encoded data removed]",
      "text/plain": [
       "<matplotlib.figure.Figure at 0x1f8e2c18>"
      ]
     },
     "metadata": {},
     "output_type": "display_data"
    }
   ],
   "source": [
    "# Rating an solved status\n",
    "sns.pointplot(x='solved_status', y='rating', data=train);"
   ]
  },
  {
   "cell_type": "code",
   "execution_count": 6,
   "metadata": {
    "collapsed": false
   },
   "outputs": [
    {
     "data": {
      "text/html": [
       "<div>\n",
       "<table border=\"1\" class=\"dataframe\">\n",
       "  <thead>\n",
       "    <tr style=\"text-align: right;\">\n",
       "      <th>solved_status</th>\n",
       "      <th>0.0</th>\n",
       "      <th>1.0</th>\n",
       "      <th>All</th>\n",
       "    </tr>\n",
       "    <tr>\n",
       "      <th>level</th>\n",
       "      <th></th>\n",
       "      <th></th>\n",
       "      <th></th>\n",
       "    </tr>\n",
       "  </thead>\n",
       "  <tbody>\n",
       "    <tr>\n",
       "      <th>E</th>\n",
       "      <td>11050</td>\n",
       "      <td>52219</td>\n",
       "      <td>63269</td>\n",
       "    </tr>\n",
       "    <tr>\n",
       "      <th>E-M</th>\n",
       "      <td>1800</td>\n",
       "      <td>3990</td>\n",
       "      <td>5790</td>\n",
       "    </tr>\n",
       "    <tr>\n",
       "      <th>H</th>\n",
       "      <td>1190</td>\n",
       "      <td>2155</td>\n",
       "      <td>3345</td>\n",
       "    </tr>\n",
       "    <tr>\n",
       "      <th>M</th>\n",
       "      <td>6204</td>\n",
       "      <td>12413</td>\n",
       "      <td>18617</td>\n",
       "    </tr>\n",
       "    <tr>\n",
       "      <th>M-H</th>\n",
       "      <td>225</td>\n",
       "      <td>185</td>\n",
       "      <td>410</td>\n",
       "    </tr>\n",
       "    <tr>\n",
       "      <th>All</th>\n",
       "      <td>20931</td>\n",
       "      <td>79069</td>\n",
       "      <td>100000</td>\n",
       "    </tr>\n",
       "  </tbody>\n",
       "</table>\n",
       "</div>"
      ],
      "text/plain": [
       "solved_status    0.0    1.0     All\n",
       "level                              \n",
       "E              11050  52219   63269\n",
       "E-M             1800   3990    5790\n",
       "H               1190   2155    3345\n",
       "M               6204  12413   18617\n",
       "M-H              225    185     410\n",
       "All            20931  79069  100000"
      ]
     },
     "execution_count": 6,
     "metadata": {},
     "output_type": "execute_result"
    }
   ],
   "source": [
    "# problem level and solved status\n",
    "pd.crosstab(train.level, train.solved_status, margins=True)"
   ]
  },
  {
   "cell_type": "code",
   "execution_count": 7,
   "metadata": {
    "collapsed": false
   },
   "outputs": [
    {
     "data": {
      "image/png": "[encoded data removed]",
      "text/plain": [
       "<matplotlib.figure.Figure at 0x1ab4ae48>"
      ]
     },
     "metadata": {},
     "output_type": "display_data"
    }
   ],
   "source": [
    "# Number of problems solved by user vs solved status\n",
    "sns.pointplot(x='solved_status', y='solved_count_y', data=train);"
   ]
  },
  {
   "cell_type": "code",
   "execution_count": 8,
   "metadata": {
    "collapsed": false
   },
   "outputs": [
    {
     "data": {
      "image/png": "[encoded data removed]",
      "text/plain": [
       "<matplotlib.figure.Figure at 0x1f6ea550>"
      ]
     },
     "metadata": {},
     "output_type": "display_data"
    }
   ],
   "source": [
    "# Number of people who solved a problem correctly vs solved status\n",
    "sns.pointplot(x='solved_status', y='solved_count_x', data=train);"
   ]
  },
  {
   "cell_type": "code",
   "execution_count": null,
   "metadata": {
    "collapsed": true
   },
   "outputs": [],
   "source": []
  }
 ],
 "metadata": {
  "kernelspec": {
   "display_name": "Python 2",
   "language": "python",
   "name": "python2"
  },
  "language_info": {
   "codemirror_mode": {
    "name": "ipython",
    "version": 2
   },
   "file_extension": ".py",
   "mimetype": "text/x-python",
   "name": "python",
   "nbconvert_exporter": "python",
   "pygments_lexer": "ipython2",
   "version": "2.7.11"
  }
 },
 "nbformat": 4,
 "nbformat_minor": 0
}
