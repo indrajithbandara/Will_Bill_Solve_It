{
 "cells": [
  {
   "cell_type": "code",
   "execution_count": 1,
   "metadata": {
    "collapsed": true
   },
   "outputs": [],
   "source": [
    "import pandas as pd\n",
    "import numpy as np"
   ]
  },
  {
   "cell_type": "code",
   "execution_count": 2,
   "metadata": {
    "collapsed": true
   },
   "outputs": [],
   "source": [
    "# load training and test data\n",
    "users_train = pd.read_csv('data/train/users.csv')\n",
    "problems_train = pd.read_csv('data/train/problems.csv')\n",
    "submissions_train = pd.read_csv('data/train/submissions.csv')\n",
    "\n",
    "users_test = pd.read_csv('data/test/users.csv')\n",
    "problems_test = pd.read_csv('data/test/problems.csv')\n",
    "submissions_test = pd.read_csv('data/test/test.csv')"
   ]
  },
  {
   "cell_type": "code",
   "execution_count": 3,
   "metadata": {
    "collapsed": true
   },
   "outputs": [],
   "source": [
    "gp_u_p_train = submissions_train.set_index(['user_id', 'problem_id'])\n",
    "gp_u_p_train.sortlevel(inplace=True)\n",
    "\n",
    "gp_u_p_test = submissions_test.set_index(['user_id', 'problem_id'])\n",
    "gp_u_p_test.sortlevel(inplace=True)"
   ]
  },
  {
   "cell_type": "code",
   "execution_count": 10,
   "metadata": {
    "collapsed": false
   },
   "outputs": [],
   "source": [
    "# shuflle indexes\n",
    "random_indexes_train = gp_u_p_train.index.unique()[np.random.permutation(len(gp_u_p_train.index.unique()))]\n",
    "random_indexes_train = random_indexes_train[:200000]"
   ]
  },
  {
   "cell_type": "code",
   "execution_count": 11,
   "metadata": {
    "collapsed": false
   },
   "outputs": [],
   "source": [
    "rows_train = []\n",
    "   \n",
    "for u, p in random_indexes_train:\n",
    "    user = users_train[users_train.user_id==u]\n",
    "    problem = problems_train[problems_train.problem_id==p]\n",
    "    solved_status = np.array((gp_u_p_train.ix[(u, p)].solved_status == 'SO').any() * 1.)\n",
    "    solved_status_reshaped = solved_status.reshape(-1, 1)\n",
    "    num_attempts = np.array(gp_u_p_train.ix[(u, p)].shape[0]).reshape(-1, 1)\n",
    "    detail = np.hstack([user, problem, num_attempts, solved_status_reshaped])\n",
    "            \n",
    "    rows_train.append(detail)"
   ]
  },
  {
   "cell_type": "code",
   "execution_count": 12,
   "metadata": {
    "collapsed": false
   },
   "outputs": [],
   "source": [
    "columns = ['user_id', 'skills', 'solved_count_y', 'attempts', 'user_type',\n",
    "           'problem_id', 'level', 'accuracy', 'solved_count_x', 'error_count', 'rating',\n",
    "           'tag1', 'tag2', 'tag3', 'tag4', 'tag5', 'num_attempts', 'solved_status']\n",
    "df_train = pd.DataFrame(np.concatenate(rows_train), columns=columns)"
   ]
  },
  {
   "cell_type": "code",
   "execution_count": 13,
   "metadata": {
    "collapsed": true
   },
   "outputs": [],
   "source": [
    "# save it as csv file\n",
    "df_train.to_csv('data/train_processed_new.csv', index=False)"
   ]
  },
  {
   "cell_type": "code",
   "execution_count": 14,
   "metadata": {
    "collapsed": true
   },
   "outputs": [],
   "source": [
    "indexes_test = gp_u_p_test.index.unique()"
   ]
  },
  {
   "cell_type": "code",
   "execution_count": 18,
   "metadata": {
    "collapsed": false
   },
   "outputs": [],
   "source": [
    "rows_test = []\n",
    "   \n",
    "for u, p in indexes_test:\n",
    "    user = users_test[users_test.user_id==u]\n",
    "    problem = problems_test[problems_test.problem_id==p]\n",
    "    num_attempts = np.array(gp_u_p_test.ix[(u, p)].shape[0]).reshape(-1, 1)\n",
    "    id = np.array(gp_u_p_test.ix[(u, p)].Id).reshape(-1, 1)\n",
    "    detail = np.hstack([user, problem, num_attempts, id])\n",
    "            \n",
    "    rows_test.append(detail)"
   ]
  },
  {
   "cell_type": "code",
   "execution_count": 19,
   "metadata": {
    "collapsed": false
   },
   "outputs": [],
   "source": [
    "columns = ['user_id', 'skills', 'solved_count_y', 'attempts', 'user_type',\n",
    "           'problem_id', 'level', 'accuracy', 'solved_count_x', 'error_count', 'rating',\n",
    "           'tag1', 'tag2', 'tag3', 'tag4', 'tag5', 'num_attempts', 'id']\n",
    "df_test = pd.DataFrame(np.concatenate(rows_test), columns=columns)"
   ]
  },
  {
   "cell_type": "code",
   "execution_count": 20,
   "metadata": {
    "collapsed": true
   },
   "outputs": [],
   "source": [
    "# save it as csv file\n",
    "df_test.to_csv('data/test_processed_new.csv', index=False)"
   ]
  },
  {
   "cell_type": "code",
   "execution_count": null,
   "metadata": {
    "collapsed": true
   },
   "outputs": [],
   "source": []
  }
 ],
 "metadata": {
  "kernelspec": {
   "display_name": "Python 2",
   "language": "python",
   "name": "python2"
  },
  "language_info": {
   "codemirror_mode": {
    "name": "ipython",
    "version": 2
   },
   "file_extension": ".py",
   "mimetype": "text/x-python",
   "name": "python",
   "nbconvert_exporter": "python",
   "pygments_lexer": "ipython2",
   "version": "2.7.11"
  }
 },
 "nbformat": 4,
 "nbformat_minor": 0
}
