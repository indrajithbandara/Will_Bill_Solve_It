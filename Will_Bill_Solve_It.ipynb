{
 "cells": [
  {
   "cell_type": "code",
   "execution_count": 1,
   "metadata": {
    "collapsed": false
   },
   "outputs": [
    {
     "name": "stderr",
     "output_type": "stream",
     "text": [
      "C:\\Users\\Abhishek\\Anaconda2\\lib\\site-packages\\matplotlib\\__init__.py:872: UserWarning: axes.color_cycle is deprecated and replaced with axes.prop_cycle; please use the latter.\n",
      "  warnings.warn(self.msg_depr % (key, alt_key))\n"
     ]
    }
   ],
   "source": [
    "import pandas as pd\n",
    "import numpy as np\n",
    "\n",
    "import matplotlib.pyplot as plt\n",
    "\n",
    "import seaborn as sns\n",
    "\n",
    "%matplotlib inline\n",
    "\n",
    "import warnings\n",
    "warnings.filterwarnings('ignore')"
   ]
  },
  {
   "cell_type": "code",
   "execution_count": 55,
   "metadata": {
    "collapsed": false
   },
   "outputs": [],
   "source": [
    "# load training and test data\n",
    "train = pd.read_csv('data/train_processed_new.csv')\n",
    "test = pd.read_csv('data/test_processed_new.csv')"
   ]
  },
  {
   "cell_type": "code",
   "execution_count": 56,
   "metadata": {
    "collapsed": false
   },
   "outputs": [],
   "source": [
    "# preprocess skills feature\n",
    "\n",
    "# determine unique skills\n",
    "skills = set()\n",
    "for m in train.skills:\n",
    "    skills.update(g for g in m.split('|'))\n",
    "skills = sorted(skills)\n",
    "\n",
    "#make a column for each skill\n",
    "for skill in skills:\n",
    "    train[skill] = [int(skill in s.split('|')) for s in train.skills]"
   ]
  },
  {
   "cell_type": "code",
   "execution_count": 57,
   "metadata": {
    "collapsed": false
   },
   "outputs": [],
   "source": [
    "# do same calculation for test set as well\n",
    "for skill in skills:\n",
    "    test[skill] = [int(skill in s.split('|')) for s in test.skills]"
   ]
  },
  {
   "cell_type": "code",
   "execution_count": 58,
   "metadata": {
    "collapsed": false
   },
   "outputs": [],
   "source": [
    "# determine problem tags\n",
    "problem_tags = set()\n",
    "for tag1, tag2, tag3, tag4, tag5 in zip(train.tag1, train.tag2, train.tag3, train.tag4, train.tag5):\n",
    "    problem_tags.update([tag1, tag2, tag3, tag4, tag5])\n",
    "problem_tags = sorted(problem_tags)"
   ]
  },
  {
   "cell_type": "code",
   "execution_count": 59,
   "metadata": {
    "collapsed": false
   },
   "outputs": [],
   "source": [
    "problem_tags[0] = 'Not Specified'"
   ]
  },
  {
   "cell_type": "code",
   "execution_count": 60,
   "metadata": {
    "collapsed": false
   },
   "outputs": [],
   "source": [
    "# make a column for each problem type\n",
    "for problem_tag in problem_tags:\n",
    "    train[problem_tag] = [int(problem_tag in tags) for tags in train[['tag1', 'tag2', 'tag3', 'tag4', 'tag5']].values]"
   ]
  },
  {
   "cell_type": "code",
   "execution_count": 10,
   "metadata": {
    "collapsed": true
   },
   "outputs": [],
   "source": [
    "for problem_tag in problem_tags:\n",
    "    test[problem_tag] = [int(problem_tag in tags) for tags in test[['tag1', 'tag2', 'tag3', 'tag4', 'tag5']].values]"
   ]
  },
  {
   "cell_type": "code",
   "execution_count": 61,
   "metadata": {
    "collapsed": true
   },
   "outputs": [],
   "source": [
    "# balanced dataset\n",
    "%run scripts/helper.py\n",
    "train_sample = balanced_sample(train)"
   ]
  },
  {
   "cell_type": "code",
   "execution_count": 62,
   "metadata": {
    "collapsed": true
   },
   "outputs": [],
   "source": [
    "# response variable ( sample )\n",
    "y_sample = train_sample.solved_status"
   ]
  },
  {
   "cell_type": "code",
   "execution_count": 63,
   "metadata": {
    "collapsed": true
   },
   "outputs": [],
   "source": [
    "# response variable\n",
    "y = train.solved_status"
   ]
  },
  {
   "cell_type": "markdown",
   "metadata": {},
   "source": [
    "## Modelling"
   ]
  },
  {
   "cell_type": "code",
   "execution_count": 74,
   "metadata": {
    "collapsed": false
   },
   "outputs": [],
   "source": [
    "%run scripts/features.py\n",
    "%run scripts/models.py\n",
    "%run scripts/eval.py"
   ]
  },
  {
   "cell_type": "code",
   "execution_count": 77,
   "metadata": {
    "collapsed": false
   },
   "outputs": [],
   "source": [
    "model1 = build_extreme_gradient_boosting(train, test)\n",
    "model2 = build_logistic_regression_model(train, test)\n",
    "model3 = build_random_forest_classifier(train, test)\n",
    "# model = build_logistic_regression_model(train, test)\n",
    "# model = build_knn_classifier(train, test)\n",
    "# model = build_extra_trees_classifier(train, test)"
   ]
  },
  {
   "cell_type": "code",
   "execution_count": 78,
   "metadata": {
    "collapsed": false
   },
   "outputs": [
    {
     "name": "stdout",
     "output_type": "stream",
     "text": [
      "accuracy score: 0.877000\n",
      "accuracy score: 0.860700\n",
      "accuracy score: 0.872017\n",
      "combined score: 0.875983\n",
      "accuracy score: 0.877200\n",
      "accuracy score: 0.862500\n",
      "accuracy score: 0.872850\n",
      "combined score: 0.876000\n",
      "accuracy score: 0.877433\n",
      "accuracy score: 0.862783\n",
      "accuracy score: 0.873200\n",
      "combined score: 0.876650\n",
      "accuracy score: 0.384350\n",
      "accuracy score: 0.860200\n",
      "accuracy score: 0.871483\n",
      "combined score: 0.867467\n",
      "accuracy score: 0.877950\n",
      "accuracy score: 0.861467\n",
      "accuracy score: 0.872783\n",
      "combined score: 0.876450\n",
      "\n"
     ]
    }
   ],
   "source": [
    "scores = eval_models([model1, model2, model3], train, y)"
   ]
  },
  {
   "cell_type": "code",
   "execution_count": 79,
   "metadata": {
    "collapsed": false
   },
   "outputs": [
    {
     "name": "stdout",
     "output_type": "stream",
     "text": [
      "Mean: 0.874510 and Standard Deviation: 0.003531\n"
     ]
    }
   ],
   "source": [
    "print 'Mean: %f and Standard Deviation: %f' %(np.mean(scores), np.std(scores))"
   ]
  },
  {
   "cell_type": "code",
   "execution_count": 34,
   "metadata": {
    "collapsed": false
   },
   "outputs": [
    {
     "name": "stdout",
     "output_type": "stream",
     "text": [
      "Accuracy on the training set 0.834863 \n",
      "Accuracy on the test set 0.819851 \n"
     ]
    }
   ],
   "source": [
    "predsTrain, predsTest, y_train, y_test = analyze_output(train)\n"
   ]
  },
  {
   "cell_type": "code",
   "execution_count": null,
   "metadata": {
    "collapsed": true
   },
   "outputs": [],
   "source": [
    "# confusion matrix\n",
    "from sklearn.metrics import confusion_matrix"
   ]
  },
  {
   "cell_type": "code",
   "execution_count": null,
   "metadata": {
    "collapsed": false
   },
   "outputs": [],
   "source": [
    "confusion_matrix(y_test, predsTest)"
   ]
  },
  {
   "cell_type": "code",
   "execution_count": null,
   "metadata": {
    "collapsed": false
   },
   "outputs": [],
   "source": [
    "misclassified = train.ix[(y_test != predsTest).index.values]\n",
    "misclassified['preds'] = predsTest"
   ]
  },
  {
   "cell_type": "code",
   "execution_count": null,
   "metadata": {
    "collapsed": true
   },
   "outputs": [],
   "source": [
    "misclassified_class_0 = misclassified[misclassified.solved_status == 0]"
   ]
  },
  {
   "cell_type": "code",
   "execution_count": null,
   "metadata": {
    "collapsed": false
   },
   "outputs": [],
   "source": [
    "misclassified_class_0[['accuracy', 'solved_status', 'preds']]"
   ]
  },
  {
   "cell_type": "code",
   "execution_count": null,
   "metadata": {
    "collapsed": false
   },
   "outputs": [],
   "source": [
    "sns.pointplot(x=\"solved_status\", y=\"accuracy\", data=misclassified);"
   ]
  },
  {
   "cell_type": "code",
   "execution_count": null,
   "metadata": {
    "collapsed": true
   },
   "outputs": [],
   "source": []
  },
  {
   "cell_type": "code",
   "execution_count": 71,
   "metadata": {
    "collapsed": false
   },
   "outputs": [
    {
     "name": "stdout",
     "output_type": "stream",
     "text": [
      "It took 290.984000 seconds to train the model \n"
     ]
    }
   ],
   "source": [
    "# train model\n",
    "import time\n",
    "\n",
    "start_time = time.time()\n",
    "\n",
    "# model1.fit(train, y)\n",
    "# model2.fit(train, y)\n",
    "# model3.fit(train, y)\n",
    "model.fit(train, y)\n",
    "\n",
    "elapsed_time = time.time() - start_time\n",
    "\n",
    "print 'It took %f seconds to train the model ' %(elapsed_time)"
   ]
  },
  {
   "cell_type": "code",
   "execution_count": 72,
   "metadata": {
    "collapsed": false
   },
   "outputs": [],
   "source": [
    "# predictions1  = model1.predict(test)\n",
    "# predictions2 = model2.predict(test)\n",
    "# predictions3 = model3.predict(test)\n",
    "\n",
    "# ensemble_preds = np.array(majority_voting([predictions1, predictions2, predictions3]))\n",
    "predictions = model.predict(test)"
   ]
  },
  {
   "cell_type": "code",
   "execution_count": 73,
   "metadata": {
    "collapsed": false
   },
   "outputs": [],
   "source": [
    "# submissions\n",
    "submission_df = pd.DataFrame({'Id': test.id.values, 'solved_status': predictions.astype(int)})\n",
    "submission_df.to_csv('submissions/thirty_eighth_xgb_num_attempts_at_problem.csv', index=False)"
   ]
  },
  {
   "cell_type": "code",
   "execution_count": null,
   "metadata": {
    "collapsed": true
   },
   "outputs": [],
   "source": []
  },
  {
   "cell_type": "code",
   "execution_count": null,
   "metadata": {
    "collapsed": true
   },
   "outputs": [],
   "source": []
  }
 ],
 "metadata": {
  "kernelspec": {
   "display_name": "Python 2",
   "language": "python",
   "name": "python2"
  },
  "language_info": {
   "codemirror_mode": {
    "name": "ipython",
    "version": 2
   },
   "file_extension": ".py",
   "mimetype": "text/x-python",
   "name": "python",
   "nbconvert_exporter": "python",
   "pygments_lexer": "ipython2",
   "version": "2.7.11"
  }
 },
 "nbformat": 4,
 "nbformat_minor": 0
}
