{
 "cells": [
  {
   "cell_type": "code",
   "execution_count": 1,
   "metadata": {
    "collapsed": false
   },
   "outputs": [
    {
     "name": "stderr",
     "output_type": "stream",
     "text": [
      "C:\\Users\\Abhishek\\Anaconda2\\lib\\site-packages\\matplotlib\\__init__.py:872: UserWarning: axes.color_cycle is deprecated and replaced with axes.prop_cycle; please use the latter.\n",
      "  warnings.warn(self.msg_depr % (key, alt_key))\n"
     ]
    }
   ],
   "source": [
    "import pandas as pd\n",
    "import numpy as np\n",
    "\n",
    "import matplotlib.pyplot as plt\n",
    "\n",
    "import seaborn as sns\n",
    "\n",
    "%matplotlib inline\n",
    "\n",
    "import warnings\n",
    "warnings.filterwarnings('ignore')"
   ]
  },
  {
   "cell_type": "code",
   "execution_count": 2,
   "metadata": {
    "collapsed": false
   },
   "outputs": [],
   "source": [
    "# load training and test data\n",
    "train = pd.read_csv('data/train_processed.csv')\n",
    "test = pd.read_csv('data/test_processed.csv')"
   ]
  },
  {
   "cell_type": "code",
   "execution_count": 3,
   "metadata": {
    "collapsed": false
   },
   "outputs": [],
   "source": [
    "# preprocess skills feature\n",
    "\n",
    "# determine unique skills\n",
    "skills = set()\n",
    "for m in train.skills:\n",
    "    skills.update(g for g in m.split('|'))\n",
    "skills = sorted(skills)\n",
    "\n",
    "#make a column for each skill\n",
    "for skill in skills:\n",
    "    train[skill] = [int(skill in s.split('|')) for s in train.skills]"
   ]
  },
  {
   "cell_type": "code",
   "execution_count": 4,
   "metadata": {
    "collapsed": false
   },
   "outputs": [],
   "source": [
    "# do same calculation for test set as well\n",
    "for skill in skills:\n",
    "    test[skill] = [int(skill in s.split('|')) for s in test.skills]"
   ]
  },
  {
   "cell_type": "code",
   "execution_count": 5,
   "metadata": {
    "collapsed": false
   },
   "outputs": [],
   "source": [
    "# balanced dataset\n",
    "%run scripts/helper.py\n",
    "train = balanced_sample(train)"
   ]
  },
  {
   "cell_type": "code",
   "execution_count": 6,
   "metadata": {
    "collapsed": false
   },
   "outputs": [],
   "source": [
    "# response variable\n",
    "y = train.solved_status"
   ]
  },
  {
   "cell_type": "markdown",
   "metadata": {},
   "source": [
    "## Prepare a very simple model based on just the accuracy of the problem"
   ]
  },
  {
   "cell_type": "code",
   "execution_count": 7,
   "metadata": {
    "collapsed": false
   },
   "outputs": [],
   "source": [
    "%run scripts/features.py\n",
    "%run scripts/models.py\n",
    "%run scripts/eval.py"
   ]
  },
  {
   "cell_type": "code",
   "execution_count": 8,
   "metadata": {
    "collapsed": false
   },
   "outputs": [],
   "source": [
    "model= build_extreme_gradient_boosting(train, test)\n",
    "# model = build_random_forest_classifier(train, test)\n",
    "# model = build_logistic_regression_model(train, test)\n",
    "# model = build_knn_classifier(train, test)\n",
    "# model = build_extra_trees_classifier(train, test)"
   ]
  },
  {
   "cell_type": "code",
   "execution_count": 9,
   "metadata": {
    "collapsed": false
   },
   "outputs": [
    {
     "name": "stdout",
     "output_type": "stream",
     "text": [
      "numeric features shape  (29304L, 8L)\n",
      "skill features shape  (29304L, 26L)\n",
      "accuracy score: 0.803552\n",
      "combined score: 0.803552\n",
      "numeric features shape  (29304L, 8L)\n",
      "skill features shape  (29304L, 26L)\n",
      "accuracy score: 0.805144\n",
      "combined score: 0.805144\n",
      "numeric features shape  (29304L, 8L)\n",
      "skill features shape  (29304L, 26L)\n",
      "accuracy score: 0.803950\n",
      "combined score: 0.803950\n",
      "numeric features shape  (29304L, 8L)\n",
      "skill features shape  (29304L, 26L)\n",
      "accuracy score: 0.806020\n",
      "combined score: 0.806020\n",
      "numeric features shape  (29304L, 8L)\n",
      "skill features shape  (29304L, 26L)\n",
      "accuracy score: 0.803392\n",
      "combined score: 0.803392\n",
      "\n"
     ]
    }
   ],
   "source": [
    "scores = eval_models([model], train, y)"
   ]
  },
  {
   "cell_type": "code",
   "execution_count": 10,
   "metadata": {
    "collapsed": false
   },
   "outputs": [
    {
     "name": "stdout",
     "output_type": "stream",
     "text": [
      "Mean: 0.804412 and Standard Deviation: 0.001012\n"
     ]
    }
   ],
   "source": [
    "print 'Mean: %f and Standard Deviation: %f' %(np.mean(scores), np.std(scores))"
   ]
  },
  {
   "cell_type": "code",
   "execution_count": null,
   "metadata": {
    "collapsed": false
   },
   "outputs": [],
   "source": [
    "predsTrain, predsTest, y_train, y_test = analyze_output(train)"
   ]
  },
  {
   "cell_type": "code",
   "execution_count": null,
   "metadata": {
    "collapsed": true
   },
   "outputs": [],
   "source": [
    "# confusion matrix\n",
    "from sklearn.metrics import confusion_matrix"
   ]
  },
  {
   "cell_type": "code",
   "execution_count": null,
   "metadata": {
    "collapsed": false
   },
   "outputs": [],
   "source": [
    "confusion_matrix(y_test, predsTest)"
   ]
  },
  {
   "cell_type": "code",
   "execution_count": null,
   "metadata": {
    "collapsed": false
   },
   "outputs": [],
   "source": [
    "misclassified = train.ix[(y_test != predsTest).index.values]\n",
    "misclassified['preds'] = predsTest"
   ]
  },
  {
   "cell_type": "code",
   "execution_count": null,
   "metadata": {
    "collapsed": true
   },
   "outputs": [],
   "source": [
    "misclassified_class_0 = misclassified[misclassified.solved_status == 0]"
   ]
  },
  {
   "cell_type": "code",
   "execution_count": null,
   "metadata": {
    "collapsed": false
   },
   "outputs": [],
   "source": [
    "misclassified_class_0[['accuracy', 'solved_status', 'preds']]"
   ]
  },
  {
   "cell_type": "code",
   "execution_count": null,
   "metadata": {
    "collapsed": false
   },
   "outputs": [],
   "source": [
    "sns.pointplot(x=\"solved_status\", y=\"accuracy\", data=misclassified);"
   ]
  },
  {
   "cell_type": "code",
   "execution_count": null,
   "metadata": {
    "collapsed": true
   },
   "outputs": [],
   "source": []
  },
  {
   "cell_type": "code",
   "execution_count": 11,
   "metadata": {
    "collapsed": false
   },
   "outputs": [
    {
     "name": "stdout",
     "output_type": "stream",
     "text": [
      "numeric features shape  (41862L, 8L)\n",
      "skill features shape  (41862L, 26L)\n",
      "It took 16.569000 seconds to train the model \n"
     ]
    }
   ],
   "source": [
    "# train model\n",
    "import time\n",
    "\n",
    "start_time = time.time()\n",
    "# model1.fit(train, y)\n",
    "# model2.fit(train, y)\n",
    "model.fit(train, y)\n",
    "elapsed_time = time.time() - start_time\n",
    "\n",
    "print 'It took %f seconds to train the model ' %(elapsed_time)"
   ]
  },
  {
   "cell_type": "code",
   "execution_count": 12,
   "metadata": {
    "collapsed": false
   },
   "outputs": [],
   "source": [
    "# predictions1  = model1.predict(test)\n",
    "# predictions2 = model2.predict(test)\n",
    "\n",
    "# ensemble_preds = np.array(majority_voting([predictions1, predictions2]))\n",
    "predictions = model.predict(test)"
   ]
  },
  {
   "cell_type": "code",
   "execution_count": 13,
   "metadata": {
    "collapsed": false
   },
   "outputs": [],
   "source": [
    "# submissions\n",
    "submission_df = pd.DataFrame({'Id': test.id.values, 'solved_status': predictions.astype(int)})\n",
    "submission_df.to_csv('submissions/twenty_eigth_xgb_one_hot_encoded_skills.csv', index=False)"
   ]
  },
  {
   "cell_type": "code",
   "execution_count": null,
   "metadata": {
    "collapsed": true
   },
   "outputs": [],
   "source": []
  },
  {
   "cell_type": "code",
   "execution_count": null,
   "metadata": {
    "collapsed": true
   },
   "outputs": [],
   "source": []
  }
 ],
 "metadata": {
  "kernelspec": {
   "display_name": "Python 2",
   "language": "python",
   "name": "python2"
  },
  "language_info": {
   "codemirror_mode": {
    "name": "ipython",
    "version": 2
   },
   "file_extension": ".py",
   "mimetype": "text/x-python",
   "name": "python",
   "nbconvert_exporter": "python",
   "pygments_lexer": "ipython2",
   "version": "2.7.11"
  }
 },
 "nbformat": 4,
 "nbformat_minor": 0
}
