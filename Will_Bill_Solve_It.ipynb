{
 "cells": [
  {
   "cell_type": "code",
   "execution_count": 1,
   "metadata": {
    "collapsed": true
   },
   "outputs": [],
   "source": [
    "import pandas as pd\n",
    "import numpy as np\n",
    "\n",
    "import warnings\n",
    "warnings.filterwarnings('ignore')"
   ]
  },
  {
   "cell_type": "code",
   "execution_count": 2,
   "metadata": {
    "collapsed": false
   },
   "outputs": [],
   "source": [
    "# load training and test data\n",
    "train = pd.read_csv('data/train_processed.csv')\n",
    "test = pd.read_csv('data/test_processed.csv')"
   ]
  },
  {
   "cell_type": "code",
   "execution_count": 3,
   "metadata": {
    "collapsed": false
   },
   "outputs": [],
   "source": [
    "# preprocess skills feature\n",
    "\n",
    "# determine unique skills\n",
    "skills = set()\n",
    "for m in train.skills:\n",
    "    skills.update(g for g in m.split('|'))\n",
    "skills = sorted(skills)\n",
    "\n",
    "#make a column for each skill\n",
    "for skill in skills:\n",
    "    train[skill] = [int(skill in s.split('|')) for s in train.skills]"
   ]
  },
  {
   "cell_type": "code",
   "execution_count": 4,
   "metadata": {
    "collapsed": false
   },
   "outputs": [],
   "source": [
    "# do same calculation for test set as well\n",
    "for skill in skills:\n",
    "    test[skill] = [int(skill in s.split('|')) for s in test.skills]"
   ]
  },
  {
   "cell_type": "code",
   "execution_count": 5,
   "metadata": {
    "collapsed": false
   },
   "outputs": [],
   "source": [
    "# response variable\n",
    "y = train.solved_status"
   ]
  },
  {
   "cell_type": "markdown",
   "metadata": {},
   "source": [
    "## Prepare a very simple model based on just the accuracy of the problem"
   ]
  },
  {
   "cell_type": "code",
   "execution_count": 6,
   "metadata": {
    "collapsed": false
   },
   "outputs": [],
   "source": [
    "%run scripts/features.py\n",
    "%run scripts/models.py\n",
    "%run scripts/eval.py"
   ]
  },
  {
   "cell_type": "code",
   "execution_count": 7,
   "metadata": {
    "collapsed": false
   },
   "outputs": [],
   "source": [
    "model1 = build_extreme_gradient_boosting(train, test)\n",
    "model2 = build_random_forest_classifier(train, test)\n",
    "# model = build_logistic_regression_model(train, test)"
   ]
  },
  {
   "cell_type": "code",
   "execution_count": 8,
   "metadata": {
    "collapsed": false
   },
   "outputs": [
    {
     "name": "stdout",
     "output_type": "stream",
     "text": [
      "accuracy score: 0.859033\n",
      "accuracy score: 0.852700\n",
      "combined score: 0.853833\n",
      "accuracy score: 0.861467\n",
      "accuracy score: 0.855900\n",
      "combined score: 0.857733\n",
      "accuracy score: 0.862033\n",
      "accuracy score: 0.855967\n",
      "combined score: 0.857433\n",
      "accuracy score: 0.860233\n",
      "accuracy score: 0.854967\n",
      "combined score: 0.856133\n",
      "accuracy score: 0.863533\n",
      "accuracy score: 0.854933\n",
      "combined score: 0.857300\n",
      "\n"
     ]
    }
   ],
   "source": [
    "scores = eval_models([model1, model2], train, y)"
   ]
  },
  {
   "cell_type": "code",
   "execution_count": null,
   "metadata": {
    "collapsed": false
   },
   "outputs": [],
   "source": [
    "analyze_output(train)"
   ]
  },
  {
   "cell_type": "code",
   "execution_count": 9,
   "metadata": {
    "collapsed": false
   },
   "outputs": [
    {
     "name": "stdout",
     "output_type": "stream",
     "text": [
      "It took 110.416000 seconds to train the model \n"
     ]
    }
   ],
   "source": [
    "# train model\n",
    "import time\n",
    "\n",
    "start_time = time.time()\n",
    "model1.fit(train, y)\n",
    "model2.fit(train, y)\n",
    "elapsed_time = time.time() - start_time\n",
    "\n",
    "print 'It took %f seconds to train the model ' %(elapsed_time)"
   ]
  },
  {
   "cell_type": "code",
   "execution_count": 10,
   "metadata": {
    "collapsed": false
   },
   "outputs": [],
   "source": [
    "predictions1  = model1.predict(test)\n",
    "predictions2 = model2.predict(test)\n",
    "\n",
    "ensemble_preds = np.array(majority_voting([predictions1, predictions2]))\n",
    "# predictions = model.predict(test)"
   ]
  },
  {
   "cell_type": "code",
   "execution_count": null,
   "metadata": {
    "collapsed": false
   },
   "outputs": [],
   "source": [
    "# submissions\n",
    "submission_df = pd.DataFrame({'Id': test.id.values, 'solved_status': ensemble_preds.astype(int)})\n",
    "submission_df.to_csv('submissions/seventeen_xgb.csv', index=False)"
   ]
  },
  {
   "cell_type": "code",
   "execution_count": null,
   "metadata": {
    "collapsed": true
   },
   "outputs": [],
   "source": []
  },
  {
   "cell_type": "code",
   "execution_count": null,
   "metadata": {
    "collapsed": true
   },
   "outputs": [],
   "source": []
  }
 ],
 "metadata": {
  "kernelspec": {
   "display_name": "Python 2",
   "language": "python",
   "name": "python2"
  },
  "language_info": {
   "codemirror_mode": {
    "name": "ipython",
    "version": 2
   },
   "file_extension": ".py",
   "mimetype": "text/x-python",
   "name": "python",
   "nbconvert_exporter": "python",
   "pygments_lexer": "ipython2",
   "version": "2.7.11"
  }
 },
 "nbformat": 4,
 "nbformat_minor": 0
}
